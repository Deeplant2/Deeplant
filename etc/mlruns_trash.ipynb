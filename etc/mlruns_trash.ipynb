{
 "cells": [
  {
   "cell_type": "code",
   "execution_count": 1,
   "id": "7979cd0c",
   "metadata": {
    "scrolled": false
   },
   "outputs": [
    {
     "ename": "SyntaxError",
     "evalue": "invalid syntax (1422007493.py, line 39)",
     "output_type": "error",
     "traceback": [
      "\u001b[0;36m  Input \u001b[0;32mIn [1]\u001b[0;36m\u001b[0m\n\u001b[0;31m    exceopt\u001b[0m\n\u001b[0m    ^\u001b[0m\n\u001b[0;31mSyntaxError\u001b[0m\u001b[0;31m:\u001b[0m invalid syntax\n"
     ]
    }
   ],
   "source": [
    "import os\n",
    "import yaml\n",
    "import pandas as pd\n",
    "import shutil\n",
    "\n",
    "mlruns_path = \"/home/work/model/multi_input_model/mlruns\"\n",
    "\n",
    "def read_yaml_file(file_path):\n",
    "    with open(file_path, 'r') as file:\n",
    "        try:\n",
    "            data = yaml.safe_load(file)\n",
    "            return data\n",
    "        except yaml.YAMLError as e:\n",
    "            print(f'YAML 파일을 읽는 중 오류가 발생했습니다: {e}')\n",
    "\n",
    "# mlruns에 있는 모든 run을 돌면서 delete상태인 run을 실제로 삭제함.\n",
    "def convert_all():\n",
    "    for experiment in os.listdir(mlruns_path):\n",
    "        if not experiment.endswith('.yaml') and not experiment.startswith('.'):\n",
    "            experiment_path = os.path.join(mlruns_path, experiment)\n",
    "            convert_experiment(experiment_path)\n",
    "\n",
    "# expriment안의 모든 runs\n",
    "def convert_experiment(experiment_path):\n",
    "    for run in os.listdir(experiment_path):\n",
    "        if not run.endswith('.yaml'):\n",
    "            run_path = os.path.join(experiment_path, run)\n",
    "            try:\n",
    "                convert_run(run_path)\n",
    "            except:\n",
    "                pass\n",
    "\n",
    "# 하나의 run\n",
    "def convert_run(run_path):\n",
    "    yaml_path = os.path.join(run_path, \"meta.yaml\")\n",
    "    \n",
    "    try:\n",
    "        data = read_yaml_file(yaml_path)\n",
    "    except:\n",
    "        pass\n",
    "    \n",
    "    try:\n",
    "        lifecycle_stage = data['lifecycle_stage']\n",
    "        if lifecycle_stage == 'deleted':\n",
    "            shutil.rmtree(run_path)\n",
    "            print(run_path,\"deleted\")\n",
    "        else:\n",
    "            print(run_path,\"active\")\n",
    "    except:\n",
    "        shutil.rmtree(run_path)\n",
    "        print(run_path,\"deleted\")\n",
    "\n",
    "convert_experiment(\"/home/work/model/multi_input_model/mlruns/56\")"
   ]
  },
  {
   "cell_type": "code",
   "execution_count": null,
   "id": "dda277e5",
   "metadata": {},
   "outputs": [],
   "source": []
  }
 ],
 "metadata": {
  "kernelspec": {
   "display_name": "PyTorch 1.13 (NGC 22.05/Python 3.8 Conda) on Backend.AI",
   "language": "python",
   "name": "python3"
  },
  "language_info": {
   "codemirror_mode": {
    "name": "ipython",
    "version": 3
   },
   "file_extension": ".py",
   "mimetype": "text/x-python",
   "name": "python",
   "nbconvert_exporter": "python",
   "pygments_lexer": "ipython3",
   "version": "3.8.13"
  }
 },
 "nbformat": 4,
 "nbformat_minor": 5
}
